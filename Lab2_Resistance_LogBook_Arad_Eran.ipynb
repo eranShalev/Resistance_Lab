{
 "cells": [
  {
   "cell_type": "markdown",
   "metadata": {
    "direction": "rtl",
    "id": "3R0AA1--o2Lw"
   },
   "source": [
    "<div dir=rtl>\n",
    "\n",
    "## מעבדה לפיסיקה 2\n",
    "\n",
    "</center>\n",
    "\n",
    "<h1><center>התנגדות</center></h1>\n",
    "\n",
    "<div dir=rtl>\n",
    "\n",
    "תיעוד ניסוי \"התנגדות\"<br>\n",
    "    <font color='red'>אין קובץ עזר זה מחליף את תדריך הניסוי! למהלך הניסוי, יש לפנות לתדריך הניסוי!</font>\n",
    "    \n",
    "    גרסה 0.15\n",
    "    \n",
    "***\n",
    "<div dir=rtl>\n",
    "תאריך:\n",
    "<div dir=rtl>\n",
    "עמדה:\n",
    "<div dir=rtl>\n",
    "מבצעים/ות:\n"
   ]
  },
  {
   "cell_type": "markdown",
   "metadata": {
    "direction": "rtl"
   },
   "source": [
    "***\n",
    "<div dir=rtl> <b> הערות: </b> <br>\n",
    "    .\n",
    "    \n",
    ".\n",
    "    \n",
    ".\n",
    "    \n",
    ".\n",
    "    "
   ]
  },
  {
   "cell_type": "markdown",
   "metadata": {
    "direction": "rtl",
    "id": "vXt7691pmMj8"
   },
   "source": [
    "<div dir=rtl>\n",
    "\n",
    "### ייבוא חבילות לעיבוד הנתונים ולקיחת מדידות"
   ]
  },
  {
   "cell_type": "code",
   "metadata": {
    "id": "epmde957ow0c"
   },
   "source": [
    "import numpy as np # math functions\n",
    "import matplotlib.pyplot as plt # for plotting figures and setting their properties\n",
    "from scipy.integrate import cumtrapz, cumulative_trapezoid #  numerical integration\n",
    "from scipy.stats import linregress # linear regression"
   ],
   "outputs": [],
   "execution_count": null
  },
  {
   "cell_type": "markdown",
   "metadata": {},
   "source": [
    "<div dir=rtl>\n",
    "<h3>\n",
    "   מתוך שאלות ההכנה:\n",
    "</h3>"
   ]
  },
  {
   "cell_type": "code",
   "metadata": {},
   "source": [
    "# Wire Props\n",
    "\n",
    "wire_length = 0.2\n",
    "wire_length_err = 1 / 1000 # Plus Minus 1 mm\n",
    "\n",
    "wire_diameter = 7 / (1000 * 100)\n",
    "wire_diameter_err = 1 / (1000 * 100)\n",
    "\n",
    "wire_surface = np.pi * ((wire_diameter/2) ** 2)\n",
    "wire_surface_err = 2 * wire_diameter_err / wire_diameter * wire_surface"
   ],
   "outputs": [],
   "execution_count": null
  },
  {
   "cell_type": "markdown",
   "metadata": {
    "direction": "rtl"
   },
   "source": [
    "<div class=\"alert alert-block alert-danger\", dir=rtl>\n",
    "<b>טיפ:</b> נחוץ מקור לכל ציטוט ערך ספרותי\n",
    "</div>"
   ]
  },
  {
   "cell_type": "code",
   "metadata": {},
   "source": [
    "# Resistivity\n",
    "# rho_lit_Cu = # , Source:\n",
    "# rho_lit_Mo = # , Source:\n",
    "\n",
    "# Resistance of a diam=0.07mm, length=20cm wire:\n",
    "# R_Cu = #\n",
    "# R_Mo = #\n",
    "\n",
    "# Density\n",
    "dens_lit_Cu = 8960 # Kg/m^3 , Source:\n",
    "dens_lit_Mo = 10220 # Kg/m^3 , Source:\n",
    "\n",
    "# Heat capacity (c)\n",
    "hc_lit_Cu = 376.812# , Source:\n",
    "hc_lit_Mo = 277.16616# , Source:\n",
    "\n",
    "# Temperature coefficient of resistance (a)\n",
    "alpha_lit_Cu = 0.00393 # , Source:\n",
    "alpha_lit_Mo = 0.004579 # , Source:\n",
    "\n",
    "\n",
    "#Mass\n",
    "mass_Cu = wire_surface * dens_lit_Cu * wire_length\n",
    "mass_Mo = wire_surface * dens_lit_Mo * wire_length\n",
    "\n",
    "mass_Cu, mass_Mo"
   ],
   "outputs": [],
   "execution_count": null
  },
  {
   "cell_type": "markdown",
   "metadata": {
    "direction": "rtl"
   },
   "source": [
    "<h1>\n",
    "    מהלך הניסוי \n",
    "<a id=\"mahalah\"></a>\n",
    "</h1>"
   ]
  },
  {
   "cell_type": "markdown",
   "metadata": {
    "direction": "rtl",
    "id": "vXt7691pmMj8"
   },
   "source": [
    "<h3>\n",
    "   מדידות מקדימות:\n",
    "</h3>"
   ]
  },
  {
   "cell_type": "markdown",
   "metadata": {
    "direction": "rtl"
   },
   "source": [
    "<div class=\"alert alert-block alert-info\", dir=rtl>\n",
    "<b>טיפ:</b> המולטימטר הוא הכלי היעודי שלנו למדידת התנגדות.\n",
    "</div>"
   ]
  },
  {
   "cell_type": "code",
   "metadata": {},
   "source": [
    "# זכרו להשתמש במולטימטר בשביל למדוד את ההתנגדות\n",
    "# High wattage resistor:\n",
    "R_0 = 0.42\n",
    "R_0_err = 0.05 / 100 * R_0 # LATER\n",
    "\n",
    "# Wire resistors:\n",
    "# \n",
    "R_1 = 0.934\n",
    "R_1_err = 0.05 / 100 * R_1 # LATER\n",
    "#\n",
    "R_2 = 0.951\n",
    "R_2_err = 0.05 / 100 * R_2 # LATER\n",
    "#\n",
    "R_3 = 2.626\n",
    "R_3_err = 0.05 / 100 * R_3 # LATER\n",
    "#\n",
    "R_4 = 2.678\n",
    "R_4_err = 0.05 / 100 * R_4 # LATER\n"
   ],
   "outputs": [],
   "execution_count": null
  },
  {
   "cell_type": "code",
   "metadata": {},
   "source": [
    "\n"
   ],
   "outputs": [],
   "execution_count": null
  },
  {
   "cell_type": "code",
   "metadata": {},
   "source": [
    "roh_R1 = R_1 * wire_surface / wire_length\n",
    "roh_R2 = R_2 * wire_surface / wire_length\n",
    "roh_R3 = R_3 * wire_surface / wire_length\n",
    "roh_R4 = R_4 * wire_surface / wire_length\n",
    "\n",
    "roh_R1, roh_R2, roh_R3, roh_R4"
   ],
   "outputs": [],
   "execution_count": null
  },
  {
   "cell_type": "markdown",
   "metadata": {
    "direction": "rtl"
   },
   "source": [
    "<div class=\"alert alert-block alert-warning\", dir=rtl>\n",
    "<b>בדיקה עצמית:</b> האם ההתנגדות המדודה תואמת לצפוי (לפי פירוט הנגד\\מבנה התיל?)\n",
    "</div>"
   ]
  },
  {
   "cell_type": "markdown",
   "metadata": {},
   "source": []
  },
  {
   "cell_type": "markdown",
   "metadata": {
    "direction": "rtl",
    "id": "vXt7691pmMj8"
   },
   "source": [
    "<h3>\n",
    "   מדידת פולס\n",
    "</h3>\n"
   ]
  },
  {
   "cell_type": "code",
   "metadata": {},
   "source": [
    "def importData_first_meas(filename):\n",
    "  # use skiprows to skip the scope setup information\n",
    "  # usecols column numbers starting from 0\n",
    "  t, v1 = np.loadtxt(filename, delimiter=',', skiprows=59, usecols=[3,4]).T\n",
    "  t = t + np.abs(t[0])\n",
    "  return t, v1\n",
    "\n",
    "\n",
    "def get_pulse_current_first_meas(filename):\n",
    "    t1, Vx1 = importData_first_meas(filename)    \n",
    "\n",
    "    Vr1 = Vx1\n",
    "    Ir1 = Vr1 / R_0#\n",
    "\n",
    "    ### plotting:\n",
    "    plt.figure()\n",
    "    plt.plot(t1, Ir1, 'b', label='Current Over Time')\n",
    "    plt.grid()\n",
    "    plt.xlabel(\"Time [seconds]\")\n",
    "    plt.ylabel(\"Current [Ampere]\")\n",
    "    plt.show()\n",
    "\n",
    "    \n",
    "\n"
   ],
   "outputs": [],
   "execution_count": null
  },
  {
   "cell_type": "code",
   "metadata": {},
   "source": [
    "def importData_second_meas(filename):\n",
    "  # use skiprows to skip the scope setup information\n",
    "  # usecols column numbers starting from 0\n",
    "  t, v1, v2 = np.loadtxt(filename, delimiter=',', skiprows=59, usecols=[3,4,5]).T\n",
    "  t = t + np.abs(t[0])\n",
    "  return t, v1, v2\n",
    "\n",
    "def get_pulse_current(filename):\n",
    "    t1, Vx1, Vy1 = importData_second_meas(filename)    \n",
    "\n",
    "    Vr1 = Vx1 - Vy1\n",
    "    Ir1 = Vr1 / R_0#\n",
    "    \n",
    "     ### plotting:\n",
    "\n",
    "    plt.figure()\n",
    "    plt.plot(t1, Ir1, 'b', label='Current Over Time')\n",
    "    plt.grid()\n",
    "    plt.xlabel(\"Time [seconds]\")\n",
    "    plt.ylabel(\"Current [Ampere]\")\n",
    "    plt.show()\n",
    "\n"
   ],
   "outputs": [],
   "execution_count": null
  },
  {
   "cell_type": "code",
   "metadata": {},
   "source": [
    "get_pulse_current_first_meas(r\"Measurements/R0.CSV\")"
   ],
   "outputs": [],
   "execution_count": null
  },
  {
   "cell_type": "code",
   "metadata": {
    "scrolled": true
   },
   "source": [
    "get_pulse_current_first_meas(\"Measurements//R0_Second_Pulse.CSV\")"
   ],
   "outputs": [],
   "execution_count": null
  },
  {
   "cell_type": "code",
   "metadata": {},
   "source": [
    "get_pulse_current(r\"Measurements//R1.CSV\")"
   ],
   "outputs": [],
   "execution_count": null
  },
  {
   "cell_type": "code",
   "metadata": {},
   "source": [
    "get_pulse_current(r\"Measurements//R3.CSV\") # Yeepee"
   ],
   "outputs": [],
   "execution_count": null
  },
  {
   "cell_type": "code",
   "metadata": {},
   "source": [
    "get_pulse_current(r\"Measurements//R1_R2_Queue.CSV\")"
   ],
   "outputs": [],
   "execution_count": null
  },
  {
   "cell_type": "code",
   "metadata": {},
   "source": [
    "get_pulse_current(r\"Measurements//R3_R4_Queue.CSV\")"
   ],
   "outputs": [],
   "execution_count": null
  },
  {
   "cell_type": "code",
   "metadata": {},
   "source": [
    "get_pulse_current(r\"Measurements//R1_R2_Parallel.CSV\")"
   ],
   "outputs": [],
   "execution_count": null
  },
  {
   "cell_type": "code",
   "metadata": {},
   "source": [
    "get_pulse_current(r\"Measurements//R3_R4_Parallel.CSV\")"
   ],
   "outputs": [],
   "execution_count": null
  },
  {
   "cell_type": "markdown",
   "metadata": {
    "direction": "rtl",
    "id": "vXt7691pmMj8"
   },
   "source": [
    "<div dir=rtl>\n",
    "    <h3>\n",
    "    מדידת התנגדות # (תיל: )\n",
    "</h3>"
   ]
  },
  {
   "cell_type": "markdown",
   "metadata": {
    "direction": "rtl"
   },
   "source": [
    "<div class=\"alert alert-block alert-success\", dir=rtl>\n",
    "<b>רגע של מחשבה:</b> מה צפויות להיות יחידות הזמן? איך נרצה \"לחתוך\" את הצגת האות שלנו כדי להתמקד בעיקר?\n",
    "</div>"
   ]
  },
  {
   "cell_type": "markdown",
   "metadata": {},
   "source": [
    "$$ \\Delta Q(t) = \\int_0^t I(t')V(t') dt' $$"
   ]
  },
  {
   "cell_type": "markdown",
   "metadata": {},
   "source": [
    "$$ R(t) = R_{t=0}\\left(1+\\frac{a}{c\\cdot m}\\Delta Q(t)\\right) $$"
   ]
  },
  {
   "cell_type": "code",
   "metadata": {},
   "source": [
    "k = wire_length / wire_surface\n",
    "k_err = np.sqrt(np.power(wire_length_err/wire_length, 2) + np.power(wire_surface_err/wire_surface, 2)) * k"
   ],
   "outputs": [],
   "execution_count": null
  },
  {
   "metadata": {},
   "cell_type": "code",
   "source": [
    "def importData(filename):\n",
    "    # use skiprows to skip the scope setup information\n",
    "    # usecols column numbers starting from 0\n",
    "    data = np.loadtxt(filename, delimiter=',', skiprows=59, usecols=[3,4,5])\n",
    "    filtered_data = data[data[:, 1] >= 1]\n",
    "    t, Vx, Vy = filtered_data.T\n",
    "\n",
    "    return t, Vx, Vy\n",
    "\n",
    "\n",
    "def get_current_and_voltage(Vx, Vy):\n",
    "    V = Vx - Vy\n",
    "    V_err = np.sqrt(np.power(Vx * 0.03, 2) + np.power(Vy * 0.03, 2))\n",
    "\n",
    "    I = Vy / R_0\n",
    "    I_err = I * np.sqrt(np.power(0.03, 2) + np.power(0.05 * 0.01, 2))\n",
    "\n",
    "    voltage_dict = { \"value\": V, \"error\": V_err }\n",
    "    current_dict = { \"value\": I, \"error\": I_err}\n",
    "\n",
    "    return current_dict, voltage_dict\n",
    "\n",
    "\n",
    "def get_energy(I, V, t):\n",
    "    Q = cumulative_trapezoid(I[\"value\"] * V[\"value\"], t, initial=0)\n",
    "    Q_err = cumulative_trapezoid(np.sqrt(np.power(V[\"value\"] * I[\"error\"], 2) + np.power(I[\"value\"] * V[\"error\"], 2)), t, initial=0)\n",
    "\n",
    "    Q_dict = { \"value\": Q, \"error\": Q_err }\n",
    "\n",
    "    return Q_dict\n",
    "\n",
    "\n",
    "\n",
    "def get_resistance(I, V):\n",
    "    R = V[\"value\"] / I[\"value\"]\n",
    "    R_err = np.sqrt(np.power(V[\"error\"]/V[\"value\"], 2) + np.power(I[\"error\"]/I[\"value\"], 2)) * R\n",
    "\n",
    "    R_dict = { \"value\": R, \"error\": R_err }\n",
    "    return R_dict\n",
    "\n",
    "\n",
    "def get_resistance_by_params(Q, roh, a, c, m):\n",
    "    print(k, k_err)\n",
    "    R = k * (1 + ((a * Q[\"value\"]) / (c * m)))\n",
    "    R_err = np.sqrt(np.power((1 + ((a * Q[\"value\"]) / (c * m))) * k_err * k_err, 2) + np.power(k * a / (c * m) * Q[\"error\"], 2))\n",
    "\n",
    "    R_dict = { \"value\": R, \"error\": R_err }\n",
    "\n",
    "    print(R_dict)\n",
    "\n",
    "    return R_dict"
   ],
   "outputs": [],
   "execution_count": null
  },
  {
   "cell_type": "code",
   "metadata": {},
   "source": [
    "\n",
    "    \n",
    "\n",
    "### Given t, Vx, Vy, write a function that returns all the necessary data for analysis:\n",
    "### Current through and Voltage on the wire (I, V), it's resistance (R) and accumulated energy (E)\n",
    "\n",
    "def IVRE(t, Vx, Vy, metal_type, roh=0):\n",
    "    I, V = get_current_and_voltage(Vx, Vy)\n",
    "    E = get_energy(I, V, t)\n",
    "    R = get_resistance(I, V)\n",
    "\n",
    "    if metal_type == 'co':\n",
    "        a = alpha_lit_Cu\n",
    "        c = hc_lit_Cu\n",
    "        m = mass_Cu\n",
    "        \n",
    "    elif metal_type == 'mo':\n",
    "        c = hc_lit_Mo\n",
    "        a = alpha_lit_Mo\n",
    "        m = mass_Mo\n",
    "        \n",
    "    else:\n",
    "        print(\"BAD\")\n",
    "        raise Exception(\"bad\")\n",
    "\n",
    "\n",
    "    # TODO: Implement\n",
    "    #R2 = get_resistance_by_params(E, roh, a, c, m)\n",
    "    \n",
    "    return I,V,R,E\n",
    "\n",
    "\n",
    "\n",
    "# fit = linregress()"
   ],
   "outputs": [],
   "execution_count": null
  },
  {
   "cell_type": "code",
   "metadata": {},
   "source": [
    "### Measurement of R1\n",
    "print(\"##### R1 #####\")\n",
    "\n",
    "t, Vx, Vy = importData(\"Measurements//R1.CSV\")\n",
    "I, V, R, E = IVRE(t, Vx, Vy, \"co\")\n",
    "\n",
    "plt.figure()\n",
    "\n",
    "# Resistance as a function of energy\n",
    "plt.plot(E[\"value\"], R[\"value\"], 'b', label=\"$\\\\frac{Resistance}{Energy}$\")\n",
    "\n",
    "\n",
    "plt.xlabel(\"Energy [Joul]\")\n",
    "plt.ylabel(\"Resistance [$\\\\Omega$]\")\n",
    "\n",
    "# Linear Regression of graph\n",
    "\n",
    "# fit = linregress(E[\"value\"], R[\"value\"])\n",
    "# slope, intercept, rvalue = fit.slope, fit.intercept, fit.rvalue\n",
    "# plt.plot(E[\"value\"], E[\"value\"] * slope + intercept, 'r', label='linear regression of graph')\n",
    "\n",
    "plt.grid()\n",
    "plt.legend()\n",
    "plt.show()\n",
    "\n",
    "\n",
    "# print(\"#########################\", f\"\\nFrom Graph: {slope * wire_surface / wire_length * mass_Cu}\\nFrom Literature: {alpha_lit_Cu/hc_lit_Cu}\", \"\\n#########################\")"
   ],
   "outputs": [],
   "execution_count": null
  },
  {
   "cell_type": "code",
   "metadata": {},
   "source": [
    "### Measurement of R3\n",
    "print(\"##### R3 #####\")\n",
    "\n",
    "t, Vx, Vy = importData(\"Measurements//R3.CSV\")\n",
    "I, V, R, E = IVRE(t, Vx, Vy, \"mo\")\n",
    "\n",
    "plt.figure()\n",
    "\n",
    "# Resistance as a function of energy\n",
    "plt.plot(E, R, 'b', label=\"$\\\\frac{Resistance}{Energy}$\")\n",
    "\n",
    "\n",
    "plt.xlabel(\"Energy [Joul]\")\n",
    "plt.ylabel(\"Resistance [$\\\\Omega$]\")\n",
    "\n",
    "# Linear Regression of graph\n",
    "\n",
    "fit = linregress(E, R)\n",
    "slope, intercept, rvalue = fit.slope, fit.intercept, fit.rvalue\n",
    "plt.plot(E, E * slope + intercept, 'r', label='linear regression of graph')\n",
    "\n",
    "plt.grid()\n",
    "plt.legend()\n",
    "plt.show()\n",
    "\n",
    "print(\"#########################\", f\"\\nFrom Graph: {slope * mass_Mo}\\nFrom Literature: {alpha_lit_Mo/hc_lit_Mo}\", \"\\n#########################\")\n"
   ],
   "outputs": [],
   "execution_count": null
  },
  {
   "cell_type": "code",
   "metadata": {},
   "source": [
    "### Measurement of R1_R2_Parallel\n",
    "print(\"##### R1_R2_Parallel #####\")\n",
    "\n",
    "t, Vx, Vy = importData(\"Measurements//R1_R2_Parallel.CSV\")\n",
    "I, V, R, E = IVRE(t, Vx, Vy, \"co\")\n",
    "\n",
    "plt.figure()\n",
    "\n",
    "# Resistance as a function of energy\n",
    "plt.plot(E, R, 'b', label=\"$\\\\frac{Resistance}{Energy}$\")\n",
    "\n",
    "\n",
    "plt.xlabel(\"Energy [Joul]\")\n",
    "plt.ylabel(\"Resistance [$\\\\Omega$]\")\n",
    "\n",
    "# Linear Regression of graph\n",
    "\n",
    "fit = linregress(E, R)\n",
    "slope, intercept, rvalue = fit.slope, fit.intercept, fit.rvalue\n",
    "plt.plot(E, E * slope + intercept, 'r', label='linear regression of graph')\n",
    "\n",
    "plt.grid()\n",
    "plt.legend()\n",
    "plt.show()\n",
    "\n",
    "\n",
    "print(\"#########################\", f\"\\nFrom Graph: {slope * mass_Cu}\\nFrom Literature: {alpha_lit_Cu/hc_lit_Cu}\", \"\\n#########################\")\n"
   ],
   "outputs": [],
   "execution_count": null
  },
  {
   "cell_type": "code",
   "metadata": {},
   "source": [
    "### Measurement of R1_R2_Queue\n",
    "print(\"##### R1_R2_Queue #####\")\n",
    "\n",
    "t, Vx, Vy = importData(\"Measurements//R1_R2_Queue.CSV\")\n",
    "I, V, R, E = IVRE(t, Vx, Vy, \"co\")\n",
    "\n",
    "plt.figure()\n",
    "\n",
    "# Resistance as a function of energy\n",
    "plt.plot(E, R, 'b', label=\"$\\\\frac{Resistance}{Energy}$\")\n",
    "\n",
    "\n",
    "plt.xlabel(\"Energy [Joul]\")\n",
    "plt.ylabel(\"Resistance [$\\\\Omega$]\")\n",
    "\n",
    "# Linear Regression of graph\n",
    "\n",
    "fit = linregress(E, R)\n",
    "slope, intercept, rvalue = fit.slope, fit.intercept, fit.rvalue\n",
    "plt.plot(E, E * slope + intercept, 'r', label='linear regression of graph')\n",
    "\n",
    "plt.grid()\n",
    "plt.legend()\n",
    "plt.show()\n",
    "\n",
    "print(\"#########################\", f\"\\nFrom Graph: {slope * mass_Cu}\\nFrom Literature: {alpha_lit_Cu/hc_lit_Cu}\", \"\\n#########################\")"
   ],
   "outputs": [],
   "execution_count": null
  },
  {
   "cell_type": "code",
   "metadata": {},
   "source": [
    "### Measurement of R3_R4_Parallel\n",
    "print(\"##### R3_R4_Parallel #####\")\n",
    "\n",
    "t, Vx, Vy = importData(\"Measurements//R3_R4_Parallel.CSV\")\n",
    "I, V, R, E = IVRE(t, Vx, Vy, \"mo\")\n",
    "\n",
    "plt.figure()\n",
    "\n",
    "# Resistance as a function of energy\n",
    "plt.plot(E, R, 'b', label=\"$\\\\frac{Resistance}{Energy}$\")\n",
    "\n",
    "\n",
    "plt.xlabel(\"Energy [Joul]\")\n",
    "plt.ylabel(\"Resistance [$\\\\Omega$]\")\n",
    "\n",
    "# Linear Regression of graph\n",
    "\n",
    "fit = linregress(E, R)\n",
    "slope, intercept, rvalue = fit.slope, fit.intercept, fit.rvalue\n",
    "plt.plot(E, E * slope + intercept, 'r', label='linear regression of graph')\n",
    "\n",
    "plt.grid()\n",
    "plt.legend()\n",
    "plt.show()\n",
    "\n",
    "print(\"#########################\", f\"\\nFrom Graph: {slope * mass_Mo}\\nFrom Literature: {alpha_lit_Mo/hc_lit_Mo}\", \"\\n#########################\")"
   ],
   "outputs": [],
   "execution_count": null
  },
  {
   "cell_type": "code",
   "metadata": {},
   "source": [
    "### Measurement of R3_R4_Queue\n",
    "print(\"##### R3_R4_Queue #####\")\n",
    "\n",
    "t, Vx, Vy = importData(\"Measurements//R3_R4_Queue.CSV\")\n",
    "I, V, R, E = IVRE(t, Vx, Vy, \"mo\")\n",
    "\n",
    "plt.figure()\n",
    "\n",
    "# Resistance as a function of energy\n",
    "plt.plot(E, R, 'b', label=\"$\\\\frac{Resistance}{Energy}$\")\n",
    "\n",
    "\n",
    "plt.xlabel(\"Energy [Joul]\")\n",
    "plt.ylabel(\"Resistance [$\\\\Omega$]\")\n",
    "\n",
    "# Linear Regression of graph\n",
    "\n",
    "fit = linregress(E, R)\n",
    "slope, intercept, rvalue = fit.slope, fit.intercept, fit.rvalue\n",
    "plt.plot(E, E * slope + intercept, 'r', label='linear regression of graph')\n",
    "\n",
    "plt.grid()\n",
    "plt.legend()\n",
    "plt.show()\n",
    "\n",
    "print(\"#########################\", f\"\\nFrom Graph: {slope * mass_Mo}\\nFrom Literature: {alpha_lit_Mo/hc_lit_Mo}\", \"\\n#########################\")"
   ],
   "outputs": [],
   "execution_count": null
  },
  {
   "cell_type": "markdown",
   "metadata": {},
   "source": [
    "<div class=\"alert alert-block alert-danger\", dir=rtl>\n",
    "<b>שימו לב:</b> האם כל הקבצים (קבצי מדידות (csv), קבצי עיבוד, תמונות...) הועלו למודל?\n",
    "</div>"
   ]
  }
 ],
 "metadata": {
  "colab": {
   "provenance": []
  },
  "direction": "ltr",
  "kernelspec": {
   "display_name": "Python 3 (ipykernel)",
   "language": "python",
   "name": "python3"
  },
  "language_info": {
   "codemirror_mode": {
    "name": "ipython",
    "version": 3
   },
   "file_extension": ".py",
   "mimetype": "text/x-python",
   "name": "python",
   "nbconvert_exporter": "python",
   "pygments_lexer": "ipython3",
   "version": "3.12.7"
  }
 },
 "nbformat": 4,
 "nbformat_minor": 4
}
